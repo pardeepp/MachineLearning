{
 "cells": [
  {
   "cell_type": "code",
   "execution_count": 1,
   "id": "56a01c06",
   "metadata": {},
   "outputs": [],
   "source": [
    "import os"
   ]
  },
  {
   "cell_type": "code",
   "execution_count": 2,
   "id": "a96b7c01",
   "metadata": {},
   "outputs": [
    {
     "data": {
      "text/plain": [
       "'C:\\\\Users\\\\pardkumar'"
      ]
     },
     "execution_count": 2,
     "metadata": {},
     "output_type": "execute_result"
    }
   ],
   "source": [
    "os.getcwd()"
   ]
  },
  {
   "cell_type": "code",
   "execution_count": 3,
   "id": "61b92c60",
   "metadata": {},
   "outputs": [],
   "source": [
    "import pandas as pd"
   ]
  },
  {
   "cell_type": "code",
   "execution_count": 4,
   "id": "9e1aa4c8",
   "metadata": {},
   "outputs": [
    {
     "data": {
      "text/html": [
       "<div>\n",
       "<style scoped>\n",
       "    .dataframe tbody tr th:only-of-type {\n",
       "        vertical-align: middle;\n",
       "    }\n",
       "\n",
       "    .dataframe tbody tr th {\n",
       "        vertical-align: top;\n",
       "    }\n",
       "\n",
       "    .dataframe thead th {\n",
       "        text-align: right;\n",
       "    }\n",
       "</style>\n",
       "<table border=\"1\" class=\"dataframe\">\n",
       "  <thead>\n",
       "    <tr style=\"text-align: right;\">\n",
       "      <th></th>\n",
       "      <th>Name</th>\n",
       "      <th>Email</th>\n",
       "      <th>Access</th>\n",
       "      <th>Buckets</th>\n",
       "    </tr>\n",
       "  </thead>\n",
       "  <tbody>\n",
       "    <tr>\n",
       "      <th>0</th>\n",
       "      <td>John Karun Kumar</td>\n",
       "      <td>jkarunkumar@deloitte.com</td>\n",
       "      <td>Power User</td>\n",
       "      <td>All Buckets</td>\n",
       "    </tr>\n",
       "    <tr>\n",
       "      <th>1</th>\n",
       "      <td>Gokul T</td>\n",
       "      <td>gotk@deloitte.com</td>\n",
       "      <td>S3</td>\n",
       "      <td>All Buckets</td>\n",
       "    </tr>\n",
       "    <tr>\n",
       "      <th>2</th>\n",
       "      <td>David Hanoch</td>\n",
       "      <td>rhanoch@deloitte.com</td>\n",
       "      <td>S3</td>\n",
       "      <td>All Buckets</td>\n",
       "    </tr>\n",
       "    <tr>\n",
       "      <th>3</th>\n",
       "      <td>Shanti Sudha Dasari</td>\n",
       "      <td>shdasari@deloitte.com</td>\n",
       "      <td>S3</td>\n",
       "      <td>All Buckets</td>\n",
       "    </tr>\n",
       "    <tr>\n",
       "      <th>4</th>\n",
       "      <td>Joel Kashipogu</td>\n",
       "      <td>jkashipogu@deloitte.com</td>\n",
       "      <td>S3</td>\n",
       "      <td>All Buckets</td>\n",
       "    </tr>\n",
       "    <tr>\n",
       "      <th>5</th>\n",
       "      <td>Logesh Munnuswamy</td>\n",
       "      <td>lom@deloitte.com</td>\n",
       "      <td>S3</td>\n",
       "      <td>All Buckets</td>\n",
       "    </tr>\n",
       "    <tr>\n",
       "      <th>6</th>\n",
       "      <td>Venkatesh Alla</td>\n",
       "      <td>vealla@deloitte.com</td>\n",
       "      <td>S3</td>\n",
       "      <td>All Buckets</td>\n",
       "    </tr>\n",
       "    <tr>\n",
       "      <th>7</th>\n",
       "      <td>Zeeshan Mirza</td>\n",
       "      <td>zmirza@deloitte.com</td>\n",
       "      <td>S3</td>\n",
       "      <td>All Buckets</td>\n",
       "    </tr>\n",
       "    <tr>\n",
       "      <th>8</th>\n",
       "      <td>Arjun, Vasu N</td>\n",
       "      <td>varjun@deloitte.com</td>\n",
       "      <td>S3</td>\n",
       "      <td>All Buckets</td>\n",
       "    </tr>\n",
       "    <tr>\n",
       "      <th>9</th>\n",
       "      <td>Vigneshwaran Madhavan</td>\n",
       "      <td>vimadhavan@deloitte.com</td>\n",
       "      <td>Admin</td>\n",
       "      <td>All Buckets</td>\n",
       "    </tr>\n",
       "    <tr>\n",
       "      <th>10</th>\n",
       "      <td>Pardeep Kumar</td>\n",
       "      <td>pardkumar@deloitte.com</td>\n",
       "      <td>Admin</td>\n",
       "      <td>All Buckets</td>\n",
       "    </tr>\n",
       "    <tr>\n",
       "      <th>11</th>\n",
       "      <td>Sai Deepak Chevuru</td>\n",
       "      <td>schevuru@deloite.com</td>\n",
       "      <td>Admin</td>\n",
       "      <td>All Buckets</td>\n",
       "    </tr>\n",
       "  </tbody>\n",
       "</table>\n",
       "</div>"
      ],
      "text/plain": [
       "                     Name                     Email      Access      Buckets\n",
       "0        John Karun Kumar  jkarunkumar@deloitte.com  Power User  All Buckets\n",
       "1                 Gokul T         gotk@deloitte.com          S3  All Buckets\n",
       "2            David Hanoch      rhanoch@deloitte.com          S3  All Buckets\n",
       "3     Shanti Sudha Dasari     shdasari@deloitte.com          S3  All Buckets\n",
       "4          Joel Kashipogu   jkashipogu@deloitte.com          S3  All Buckets\n",
       "5       Logesh Munnuswamy          lom@deloitte.com          S3  All Buckets\n",
       "6          Venkatesh Alla       vealla@deloitte.com          S3  All Buckets\n",
       "7           Zeeshan Mirza       zmirza@deloitte.com          S3  All Buckets\n",
       "8           Arjun, Vasu N       varjun@deloitte.com          S3  All Buckets\n",
       "9   Vigneshwaran Madhavan   vimadhavan@deloitte.com       Admin  All Buckets\n",
       "10          Pardeep Kumar    pardkumar@deloitte.com       Admin  All Buckets\n",
       "11     Sai Deepak Chevuru      schevuru@deloite.com       Admin  All Buckets"
      ]
     },
     "execution_count": 4,
     "metadata": {},
     "output_type": "execute_result"
    }
   ],
   "source": [
    "data = pd.read_excel(r'C:\\Users\\pardkumar\\Documents\\pardeep\\Python\\Users.xlsx')\n",
    "data"
   ]
  },
  {
   "cell_type": "code",
   "execution_count": 5,
   "id": "b434f530",
   "metadata": {},
   "outputs": [
    {
     "data": {
      "text/plain": [
       "'C:\\\\Users\\\\pardkumar'"
      ]
     },
     "execution_count": 5,
     "metadata": {},
     "output_type": "execute_result"
    }
   ],
   "source": [
    "os.getcwd()"
   ]
  },
  {
   "cell_type": "code",
   "execution_count": null,
   "id": "dd22ed84",
   "metadata": {},
   "outputs": [],
   "source": []
  }
 ],
 "metadata": {
  "kernelspec": {
   "display_name": "Python 3 (ipykernel)",
   "language": "python",
   "name": "python3"
  },
  "language_info": {
   "codemirror_mode": {
    "name": "ipython",
    "version": 3
   },
   "file_extension": ".py",
   "mimetype": "text/x-python",
   "name": "python",
   "nbconvert_exporter": "python",
   "pygments_lexer": "ipython3",
   "version": "3.9.7"
  }
 },
 "nbformat": 4,
 "nbformat_minor": 5
}
